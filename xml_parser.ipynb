{
 "cells": [
  {
   "cell_type": "code",
   "execution_count": 46,
   "metadata": {},
   "outputs": [],
   "source": [
    "from datetime import datetime\n",
    "from dateutil.parser import parse\n",
    "\n",
    "import xml.dom.minidom\n",
    "from xml.etree import ElementTree as ET\n",
    "from bs4 import BeautifulSoup as bs"
   ]
  },
  {
   "cell_type": "markdown",
   "metadata": {},
   "source": [
    "#### Reading and formatting the files"
   ]
  },
  {
   "cell_type": "code",
   "execution_count": 4,
   "metadata": {},
   "outputs": [],
   "source": [
    "xmlfile1 = \"./data/rezeptdatenbank.WordPress.2019-07-29_Rezepte.xml\"\n",
    "xmlfile2 = \"./data/rezeptdatenbank.WordPress.2019-07-29_Rezeptev2.xml\""
   ]
  },
  {
   "cell_type": "code",
   "execution_count": 5,
   "metadata": {},
   "outputs": [],
   "source": [
    "with open(xmlfile1, \"r\") as f:\n",
    "    content = f.read()"
   ]
  },
  {
   "cell_type": "code",
   "execution_count": 6,
   "metadata": {},
   "outputs": [],
   "source": [
    "content = content.replace('\\t','')\n",
    "content = content.replace('<content:encoded>\\n','<content:encoded>')\n",
    "content = content.replace('<excerpt:encoded>\\n','<excerpt:encoded>')\n",
    "content = content.replace('<title>\\n','<title>')\n",
    "content = content.replace('</item>','</item>\\n')\n",
    "content = content.replace('<wp:author>','<wp:author>\\n')\n",
    "content = content.replace('</wp:author>','</wp:author>\\n')\n",
    "content = content.replace('</wp:author_id>','</wp:author_id>\\n')\n",
    "content = content.replace('</wp:author_login>','</wp:author_login>\\n')\n",
    "content = content.replace('</wp:author_email>','</wp:author_email>\\n')\n",
    "content = content.replace('</wp:author_display_name>','</wp:author_display_name>\\n')\n",
    "content = content.replace('</wp:author_first_name>','</wp:author_first_name>\\n')\n",
    "content = content.replace('</wp:author_last_name>','</wp:author_last_name>\\n')"
   ]
  },
  {
   "cell_type": "markdown",
   "metadata": {},
   "source": [
    "#### Saving a formatted version of the file with all recipes"
   ]
  },
  {
   "cell_type": "code",
   "execution_count": 7,
   "metadata": {},
   "outputs": [],
   "source": [
    "with open(xmlfile2, \"w\") as f:\n",
    "    f.write(content)"
   ]
  },
  {
   "cell_type": "markdown",
   "metadata": {},
   "source": [
    "#### Finding each individual recipe and saving on a list"
   ]
  },
  {
   "cell_type": "code",
   "execution_count": 8,
   "metadata": {},
   "outputs": [],
   "source": [
    "def find_recipe(text):\n",
    "    pos1 = text.find('<item>')\n",
    "    pos2 = text.find('</item>')+7\n",
    "    return pos1, pos2"
   ]
  },
  {
   "cell_type": "code",
   "execution_count": 9,
   "metadata": {},
   "outputs": [],
   "source": [
    "pos1 = 0\n",
    "text = content\n",
    "recipes = []\n",
    "while pos1 != -1:\n",
    "    pos1, pos2 = find_recipe(text)\n",
    "    recipes.append(text[pos1:pos2])\n",
    "    text =  text[pos2+1:]"
   ]
  },
  {
   "cell_type": "code",
   "execution_count": 10,
   "metadata": {},
   "outputs": [
    {
     "data": {
      "text/plain": [
       "7037"
      ]
     },
     "execution_count": 10,
     "metadata": {},
     "output_type": "execute_result"
    }
   ],
   "source": [
    "len(recipes)"
   ]
  },
  {
   "cell_type": "markdown",
   "metadata": {},
   "source": [
    "#### Discarding recipes without content"
   ]
  },
  {
   "cell_type": "code",
   "execution_count": 11,
   "metadata": {},
   "outputs": [],
   "source": [
    "recipes_notnull = [r for r in recipes if '<content:encoded><![CDATA[]]></content:encoded>' not in r]"
   ]
  },
  {
   "cell_type": "code",
   "execution_count": 12,
   "metadata": {},
   "outputs": [
    {
     "data": {
      "text/plain": [
       "6893"
      ]
     },
     "execution_count": 12,
     "metadata": {},
     "output_type": "execute_result"
    }
   ],
   "source": [
    "len(recipes_notnull)"
   ]
  },
  {
   "cell_type": "code",
   "execution_count": 17,
   "metadata": {},
   "outputs": [
    {
     "name": "stdout",
     "output_type": "stream",
     "text": [
      "<item>\n",
      "<title>König Suppen Zumachen</title>\n",
      "<link>http://gastrosophie.sbg.ac.at/kbforschung/r-datenbank/?rdb_rezepte=koenig-suppen-zumachen</link>\n",
      "<pubDate>Tue, 22 Apr 2014 07:48:11 +0000</pubDate>\n",
      "<dc:creator><![CDATA[mernst]]></dc:creator>\n",
      "<guid isPermaLink=\"false\">http://gastrosophie.sbg.ac.at/kbforschung/r-datenbank/?post_type=rdb_rezepte&#038;p=163</guid>\n",
      "<description></description>\n",
      "<content:encoded><![CDATA[Nimbe ein Guetten Coppaun*, siede* / ihme marb*, nimb die Prust von dem / Coppaun, hackh sye gar khlein, Nimb / das March* vnnd die Nirn auch eiterl*, / vnnd Wasche es Sauber aus, khere* sye in / Mell vmb, Pache* sye in butter, das / sye Zimblich Resch* Werden, thue daß / Gehackte in ein Zinnene* schisßl*, Gies* / ein Coppauner* oder henner brie* daran, / seze es Auf ein Gluett*, lasse es siden*,. / Wan du es Anrichten Wilst, so Giesse / ein Dotter Suppen* daran, Nimb / lemony*, trucke den Safft darein, Nimb / Pistazy*, Ziechs ab*, thue es auf die / Suppen, Ziere den schisßl ranft* mit / Gebachnen* Prisl*, vnnd Austern, Gibe / es Warm, stuppe* es mit Zimmet*, vnd / salze es, so ist sye Guett. // (re 2)]]></content:encoded>\n",
      "<excerpt:encoded><![CDATA[]]></excerpt:encoded>\n",
      "<wp:post_id>163</wp:post_id>\n",
      "<wp:post_date><![CDATA[2014-04-22 09:48:11]]></wp:post_date>\n",
      "<wp:post_date_gmt><![CDATA[2014-04-22 07:48:11]]></wp:post_date_gmt>\n",
      "<wp:comment_status><![CDATA[closed]]></wp:comment_status>\n",
      "<wp:ping_status><![CDATA[closed]]></wp:ping_status>\n",
      "<wp:post_name><![CDATA[koenig-suppen-zumachen]]></wp:post_name>\n",
      "<wp:status><![CDATA[publish]]></wp:status>\n",
      "<wp:post_parent>0</wp:post_parent>\n",
      "<wp:menu_order>0</wp:menu_order>\n",
      "<wp:post_type><![CDATA[rdb_rezepte]]></wp:post_type>\n",
      "<wp:post_password><![CDATA[]]></wp:post_password>\n",
      "<wp:is_sticky>0</wp:is_sticky>\n",
      "<category domain=\"Zutaten\" nicename=\"austern\"><![CDATA[Austern]]></category>\n",
      "<category domain=\"Zutaten\" nicename=\"eier\"><![CDATA[Eier]]></category>\n",
      "<category domain=\"Zutaten\" nicename=\"kapaun\"><![CDATA[Kapaun]]></category>\n",
      "<category domain=\"Zutaten\" nicename=\"pistazien\"><![CDATA[Pistazien]]></category>\n",
      "<category domain=\"Zutaten\" nicename=\"zimt\"><![CDATA[Zimt]]></category>\n",
      "<category domain=\"MaterielleKultur\" nicename=\"zinnschuessel\"><![CDATA[Zinnschüssel]]></category>\n",
      "<category domain=\"Zutaten\" nicename=\"zitronensaft\"><![CDATA[Zitronensaft]]></category>\n",
      "<wp:postmeta>\n",
      "<wp:meta_key><![CDATA[_edit_last]]></wp:meta_key>\n",
      "<wp:meta_value><![CDATA[1]]></wp:meta_value>\n",
      "</wp:postmeta>\n",
      "<wp:postmeta>\n",
      "<wp:meta_key><![CDATA[link]]></wp:meta_key>\n",
      "<wp:meta_value><![CDATA[]]></wp:meta_value>\n",
      "</wp:postmeta>\n",
      "<wp:postmeta>\n",
      "<wp:meta_key><![CDATA[jahr]]></wp:meta_key>\n",
      "<wp:meta_value><![CDATA[]]></wp:meta_value>\n",
      "</wp:postmeta>\n",
      "<wp:postmeta>\n",
      "<wp:meta_key><![CDATA[synonym]]></wp:meta_key>\n",
      "<wp:meta_value><![CDATA[]]></wp:meta_value>\n",
      "</wp:postmeta>\n",
      "<wp:postmeta>\n",
      "<wp:meta_key><![CDATA[translation]]></wp:meta_key>\n",
      "<wp:meta_value><![CDATA[Königssuppe]]></wp:meta_value>\n",
      "</wp:postmeta>\n",
      "<wp:postmeta>\n",
      "<wp:meta_key><![CDATA[modern]]></wp:meta_key>\n",
      "<wp:meta_value><![CDATA[]]></wp:meta_value>\n",
      "</wp:postmeta>\n",
      "<wp:postmeta>\n",
      "<wp:meta_key><![CDATA[number]]></wp:meta_key>\n",
      "<wp:meta_value><![CDATA[Nr. 001]]></wp:meta_value>\n",
      "</wp:postmeta>\n",
      "<wp:postmeta>\n",
      "<wp:meta_key><![CDATA[transkription]]></wp:meta_key>\n",
      "<wp:meta_value><![CDATA[]]></wp:meta_value>\n",
      "</wp:postmeta>\n",
      "<wp:postmeta>\n",
      "<wp:meta_key><![CDATA[_transkription]]></wp:meta_key>\n",
      "<wp:meta_value><![CDATA[field_5aa7bffadca37]]></wp:meta_value>\n",
      "</wp:postmeta>\n",
      "<wp:postmeta>\n",
      "<wp:meta_key><![CDATA[anmerkungen]]></wp:meta_key>\n",
      "<wp:meta_value><![CDATA[„ein Dotter Suppen“ ist hier eine Sauce mit Ei gebunden]]></wp:meta_value>\n",
      "</wp:postmeta>\n",
      "<wp:postmeta>\n",
      "<wp:meta_key><![CDATA[_anmerkungen]]></wp:meta_key>\n",
      "<wp:meta_value><![CDATA[field_5aa7bf31fc6df]]></wp:meta_value>\n",
      "</wp:postmeta>\n",
      "</item>\n"
     ]
    }
   ],
   "source": [
    "print(recipes[0])"
   ]
  },
  {
   "cell_type": "markdown",
   "metadata": {},
   "source": [
    "#### Converting files to TEI-XML format"
   ]
  },
  {
   "cell_type": "code",
   "execution_count": 14,
   "metadata": {},
   "outputs": [],
   "source": [
    "template = '''\n",
    "<?xml version=\"1.0\" encoding=\"UTF-8\" ?>\n",
    "<TEI xmlns=\"http://www.tei-c.org/ns/1.0\">\n",
    "    <teiHeader>\n",
    "        <fileDesc>\n",
    "            <titleStmt>\n",
    "                <title>{0}</title>\n",
    "            </titleStmt>\n",
    "            <publicationStmt>\n",
    "                <publisher>\n",
    "                    <orgName>Des Zentrums für Gastrosophie</orgName>\n",
    "                    <ptr target=\"http://gastrosophie.sbg.ac.at/\"/>\n",
    "                </publisher>\n",
    "                <date when=\"{1}\"/>\n",
    "            </publicationStmt>\n",
    "            <sourceDesc>\n",
    "                <biblStruct>\n",
    "                    <monogr>\n",
    "                        <title>{0}</title>\n",
    "                        <title type=\"alt\">{2}</title>\n",
    "                        <note>{3}</note>\n",
    "                        <author>\n",
    "                            <persName xml:id=\"person1\">\n",
    "                                <forename>Marlene</forename>\n",
    "                                <surname>Ernst</surname>\n",
    "                                <email>marlene.ernst@sbg.ac.at</email>\n",
    "                            </persName>\n",
    "                        </author>\n",
    "                        <author>\n",
    "                            <persName xml:id=\"person32\">\n",
    "                                <forename>Christine</forename>\n",
    "                                <surname>Überei</surname>\n",
    "                                <email>christine.ueberei@stud.sbg.ac.at</email>\n",
    "                            </persName>\n",
    "                        </author>\n",
    "                        <author>\n",
    "                            <persName xml:id=\"person33\">\n",
    "                                <forename>Juliane</forename>\n",
    "                                <surname>Wiemerslage</surname>\n",
    "                                <email>Jwiemerslage@web.de</email>\n",
    "                            </persName>\n",
    "                        </author>\n",
    "                        <author>\n",
    "                            <persName xml:id=\"person30\">\n",
    "                                <forename>Irene</forename>\n",
    "                                <surname>Tripp</surname>\n",
    "                                <email>irenetripp@hotmail.com</email>\n",
    "                            </persName>\n",
    "                        </author>\n",
    "                        <author>\n",
    "                            <persName xml:id=\"person19\">\n",
    "                                <forename>Lukas</forename>\n",
    "                                <surname>Fallwickl</surname>\n",
    "                                <email>Lukas_Andreas.Fallwickl@stud.sbg.ac.at</email>\n",
    "                            </persName>\n",
    "                        </author>\n",
    "                        <author>\n",
    "                            <persName xml:id=\"person20\">\n",
    "                                <forename>Magdalena</forename>\n",
    "                                <surname>Bogenhuber</surname>\n",
    "                                <email>magdalena.bogenhuber@stud.sbg.ac.at</email>\n",
    "                            </persName>\n",
    "                        </author>\n",
    "                        <author>\n",
    "                            <persName xml:id=\"person29\">\n",
    "                                <forename>Andrea</forename>\n",
    "                                <surname>Sobieszek</surname>\n",
    "                                <email>A.Sobieszek@utanet.at</email>\n",
    "                            </persName>\n",
    "                        </author>\n",
    "                        <author>\n",
    "                            <persName xml:id=\"person18\">\n",
    "                                <forename>Mae</forename>\n",
    "                                <surname>Lene</surname>\n",
    "                                <email>marlene.ernst@stud.sbg.ac.at</email>\n",
    "                            </persName>\n",
    "                        </author>\n",
    "                        <author>\n",
    "                            <persName xml:id=\"person28\">\n",
    "                                <forename>Sabine</forename>\n",
    "                                <surname>Schwaiger</surname>\n",
    "                                <email>sabine.schwaiger@a1.net</email>\n",
    "                            </persName>\n",
    "                        </author>\n",
    "                        <author>\n",
    "                            <persName xml:id=\"person36\">\n",
    "                                <forename>Lotte</forename>\n",
    "                                <surname>Caglar</surname>\n",
    "                                <email>lotte.caglar@gmx.at</email>\n",
    "                            </persName>\n",
    "                        </author>\n",
    "                        <author>\n",
    "                            <persName xml:id=\"person38\">\n",
    "                                <forename>Wolfram</forename>\n",
    "                                <surname>Kracker</surname>\n",
    "                                <email>wolfram.kracker@aon.at</email>\n",
    "                            </persName>\n",
    "                        </author>\n",
    "                        <author>\n",
    "                            <persName xml:id=\"person39\">\n",
    "                                <forename>Waltraud</forename>\n",
    "                                <surname>Ernst</surname>\n",
    "                                <email>wernst@gmx.at</email>\n",
    "                            </persName>\n",
    "                        </author>\n",
    "                        <author>\n",
    "                            <persName xml:id=\"person35\">\n",
    "                                <forename>Marlies</forename>\n",
    "                                <surname>Berger</surname>\n",
    "                                <email>marlies.berger@sbg.ac.at</email>\n",
    "                            </persName>\n",
    "                        </author>\n",
    "                        <author>\n",
    "                            <persName xml:id=\"person26\">\n",
    "                                <forename>Helga</forename>\n",
    "                                <surname>Kraihamer</surname>\n",
    "                                <email>h.kraihamer@gmail.com</email>\n",
    "                            </persName>\n",
    "                        </author>\n",
    "                        <author>\n",
    "                            <persName xml:id=\"person37\">\n",
    "                                <forename>Margit</forename>\n",
    "                                <surname>Gull</surname>\n",
    "                                <email>m.gull@gmx.at</email>\n",
    "                            </persName>\n",
    "                        </author>\n",
    "                        <author>\n",
    "                            <persName xml:id=\"person41\">\n",
    "                                <forename>Maximilian</forename>\n",
    "                                <surname>Schmidauer</surname>\n",
    "                                <email>maximilian.schmidauer@stud.sbg.ac.at</email>\n",
    "                            </persName>\n",
    "                        </author>\n",
    "                        <textLang mainLang=\"deu\"/>\n",
    "                        <imprint>\n",
    "                            <biblScope unit=\"volume\">{4}</biblScope>\n",
    "                            <biblScope unit=\"chapter\">{5}</biblScope>\n",
    "                            <biblScope unit=\"entry\">{6}</biblScope>\n",
    "                        </imprint>\n",
    "                    </monogr>\n",
    "                </biblStruct>\n",
    "                <msDesc>\n",
    "                    <msIdentifier>\n",
    "                        <repository>Rezeptdatenbank</repository>\n",
    "                        <idno>{7}</idno>\n",
    "                    </msIdentifier>\n",
    "                </msDesc>\n",
    "            </sourceDesc>\n",
    "        </fileDesc>\n",
    "    </teiHeader>\n",
    "    <text>\n",
    "        <body>\n",
    "        {8}\n",
    "        {9}\n",
    "        </body>\n",
    "    </text>\n",
    "</TEI>\n",
    "'''"
   ]
  },
  {
   "cell_type": "code",
   "execution_count": 143,
   "metadata": {},
   "outputs": [],
   "source": [
    "soup = bs(recipes_notnull[number], \"lxml\")\n",
    "\n",
    "title = soup.find('title').text #0\n",
    "\n",
    "declared_date = parse(soup.find('pubdate').text)\n",
    "tei_formatted_date = f'{declared_date.year}-{declared_date.month:02d}-{declared_date.day}' #1\n",
    "\n",
    "trans_pos1 = recipes_notnull[number].find('<wp:meta_key><![CDATA[translation]]></wp:meta_key>\\n<wp:meta_value><![CDATA[')\n",
    "if trans_pos1 != -1:\n",
    "    trans_pos2 = recipes_notnull[number].find(']]></wp:meta_value>', trans_pos1)\n",
    "    translation = recipes_notnull[number][trans_pos1+75:trans_pos2] #2\n",
    "\n",
    "note_pos1 = recipes_notnull[number].find('<wp:meta_key><![CDATA[anmerkungen]]></wp:meta_key>\\n<wp:meta_value><![CDATA[')\n",
    "if note_pos1 != -1:\n",
    "    note_pos2 = recipes_notnull[number].find(']]></wp:meta_value>', note_pos1)\n",
    "    anmerkungen = recipes_notnull[number][note_pos1+75:note_pos2] #3\n",
    "\n",
    "idno = soup.find('guid').text[soup.find('guid').text.find('p=')+2:] #7\n",
    "\n"
   ]
  },
  {
   "cell_type": "code",
   "execution_count": 158,
   "metadata": {},
   "outputs": [
    {
     "name": "stdout",
     "output_type": "stream",
     "text": [
      "163\n"
     ]
    }
   ],
   "source": [
    "soup = bs(recipes_notnull[0], \"lxml\")\n",
    "idno = soup.find('guid').text[soup.find('guid').text.find('p=')+2:]\n",
    "print(idno)"
   ]
  },
  {
   "cell_type": "code",
   "execution_count": 148,
   "metadata": {},
   "outputs": [
    {
     "data": {
      "text/plain": [
       "75"
      ]
     },
     "execution_count": 148,
     "metadata": {},
     "output_type": "execute_result"
    }
   ],
   "source": [
    "len('<wp:meta_key><![CDATA[translation]]></wp:meta_key>\\n<wp:meta_value><![CDATA[')"
   ]
  },
  {
   "cell_type": "code",
   "execution_count": null,
   "metadata": {},
   "outputs": [],
   "source": [
    "recipe = template.format(title,\n",
    "                         tei_formatted_date,\n",
    "                         translation,\n",
    "                         anmerkungen,\n",
    "                         volume,\n",
    "                         chapter,\n",
    "                         entry,\n",
    "                         idno,\n",
    "                         ingredients,\n",
    "                         recipe_text\n",
    "                        )"
   ]
  },
  {
   "cell_type": "markdown",
   "metadata": {},
   "source": [
    "#### Creating separate files using template"
   ]
  },
  {
   "cell_type": "code",
   "execution_count": 15,
   "metadata": {},
   "outputs": [],
   "source": [
    "for idn, r in enumerate(recipes_notnull):\n",
    "    with open(f'./outputs/recipe_{idn}.xml', \"w\") as f:\n",
    "        f.write(header + r + footer)"
   ]
  },
  {
   "cell_type": "markdown",
   "metadata": {},
   "source": [
    "#### Alternative ways to navigate the contents"
   ]
  },
  {
   "cell_type": "code",
   "execution_count": null,
   "metadata": {},
   "outputs": [],
   "source": [
    "soup = bs(content, \"lxml\")\n",
    "#result = soup.find_all('content:encoded')\n",
    "result = soup.find('item')\n",
    "print(len(list(result)))"
   ]
  },
  {
   "cell_type": "code",
   "execution_count": null,
   "metadata": {},
   "outputs": [],
   "source": [
    "doc = xml.dom.minidom.parse(xmlfile)\n",
    "tree = ET.parse(xmlfile)"
   ]
  },
  {
   "cell_type": "code",
   "execution_count": null,
   "metadata": {},
   "outputs": [],
   "source": [
    "recipes = doc.getElementsByTagName(\"item\")\n",
    "len(recipes)"
   ]
  },
  {
   "cell_type": "code",
   "execution_count": null,
   "metadata": {},
   "outputs": [],
   "source": [
    "root = tree.getroot()\n",
    "print(root)"
   ]
  },
  {
   "cell_type": "code",
   "execution_count": null,
   "metadata": {},
   "outputs": [],
   "source": [
    "for child in root:\n",
    "    print(child.tag, child.attrib)"
   ]
  },
  {
   "cell_type": "code",
   "execution_count": null,
   "metadata": {},
   "outputs": [],
   "source": [
    "set([elem.tag for elem in root.iter()])"
   ]
  },
  {
   "cell_type": "raw",
   "metadata": {},
   "source": [
    "for elem in root.iter():\n",
    "    for attrName, attrValue in elem.items():\n",
    "        print(attrName + ' ==> ' + attrValue)\n",
    "        #print(elem.tag)\n",
    "        #print(elem.text)\n",
    "        #print(elem.attrib)\n",
    "        #print(elem.items())\n",
    "        #print('\\n')\n",
    "        break"
   ]
  },
  {
   "cell_type": "code",
   "execution_count": null,
   "metadata": {},
   "outputs": [],
   "source": [
    "for event, elem in ET.iterparse(xmlfile):\n",
    "    if elem.tag == \"item\":\n",
    "        print(repr(elem.findtext(\"link\")))\n",
    "        elem.clear() # won't need this again\n",
    "        break"
   ]
  },
  {
   "cell_type": "code",
   "execution_count": null,
   "metadata": {},
   "outputs": [],
   "source": [
    "for event, elem in ET.iterparse(xmlfile):\n",
    "    if elem.tag == \"title\":\n",
    "        print repr(elem.text)\n",
    "        break # we're done"
   ]
  },
  {
   "cell_type": "code",
   "execution_count": null,
   "metadata": {},
   "outputs": [],
   "source": []
  }
 ],
 "metadata": {
  "kernelspec": {
   "display_name": "Python 3",
   "language": "python",
   "name": "python3"
  },
  "language_info": {
   "codemirror_mode": {
    "name": "ipython",
    "version": 3
   },
   "file_extension": ".py",
   "mimetype": "text/x-python",
   "name": "python",
   "nbconvert_exporter": "python",
   "pygments_lexer": "ipython3",
   "version": "3.6.8"
  }
 },
 "nbformat": 4,
 "nbformat_minor": 4
}
