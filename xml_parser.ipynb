{
 "cells": [
  {
   "cell_type": "code",
   "execution_count": 1,
   "metadata": {},
   "outputs": [],
   "source": [
    "import xml.dom.minidom\n",
    "from xml.etree import ElementTree as ET\n",
    "from bs4 import BeautifulSoup as bs"
   ]
  },
  {
   "cell_type": "code",
   "execution_count": 2,
   "metadata": {},
   "outputs": [],
   "source": [
    "xmlfile1 = \"./rezeptdatenbank.WordPress.2019-07-29_Rezepte.xml\"\n",
    "xmlfile2 = \"./rezeptdatenbank.WordPress.2019-07-29_Rezeptev2.xml\""
   ]
  },
  {
   "cell_type": "code",
   "execution_count": 3,
   "metadata": {},
   "outputs": [],
   "source": [
    "with open(xmlfile1, \"r\") as f:\n",
    "    content = f.read()"
   ]
  },
  {
   "cell_type": "code",
   "execution_count": 4,
   "metadata": {},
   "outputs": [],
   "source": [
    "content = content.replace('\\t','')\n",
    "content = content.replace('<content:encoded>\\n','<content:encoded>')\n",
    "content = content.replace('<excerpt:encoded>\\n','<excerpt:encoded>')\n",
    "content = content.replace('<title>\\n','<title>')\n",
    "content = content.replace('</item>','</item>\\n')\n",
    "content = content.replace('<wp:author>','<wp:author>\\n')\n",
    "content = content.replace('</wp:author>','</wp:author>\\n')\n",
    "content = content.replace('</wp:author_id>','</wp:author_id>\\n')\n",
    "content = content.replace('</wp:author_login>','</wp:author_login>\\n')\n",
    "content = content.replace('</wp:author_email>','</wp:author_email>\\n')\n",
    "content = content.replace('</wp:author_display_name>','</wp:author_display_name>\\n')\n",
    "content = content.replace('</wp:author_first_name>','</wp:author_first_name>\\n')\n",
    "content = content.replace('</wp:author_last_name>','</wp:author_last_name>\\n')"
   ]
  },
  {
   "cell_type": "code",
   "execution_count": 5,
   "metadata": {},
   "outputs": [],
   "source": [
    "with open(xmlfile2, \"w\") as f:\n",
    "    f.write(content)"
   ]
  },
  {
   "cell_type": "code",
   "execution_count": 6,
   "metadata": {},
   "outputs": [],
   "source": [
    "def find_recipe(text):\n",
    "    pos1 = text.find('<item>')\n",
    "    pos2 = text.find('</item>')+7\n",
    "    return pos1, pos2"
   ]
  },
  {
   "cell_type": "code",
   "execution_count": 7,
   "metadata": {},
   "outputs": [],
   "source": [
    "pos1 = 0\n",
    "text = content\n",
    "recipes = []\n",
    "while pos1 != -1:\n",
    "    pos1, pos2 = find_recipe(text)\n",
    "    recipes.append(text[pos1:pos2])\n",
    "    text =  text[pos2+1:]"
   ]
  },
  {
   "cell_type": "code",
   "execution_count": 8,
   "metadata": {},
   "outputs": [
    {
     "data": {
      "text/plain": [
       "7037"
      ]
     },
     "execution_count": 8,
     "metadata": {},
     "output_type": "execute_result"
    }
   ],
   "source": [
    "len(recipes)"
   ]
  },
  {
   "cell_type": "code",
   "execution_count": 9,
   "metadata": {},
   "outputs": [],
   "source": [
    "recipes_notnull = [r for r in recipes if '<content:encoded><![CDATA[]]></content:encoded>' not in r]"
   ]
  },
  {
   "cell_type": "code",
   "execution_count": 10,
   "metadata": {},
   "outputs": [
    {
     "data": {
      "text/plain": [
       "6893"
      ]
     },
     "execution_count": 10,
     "metadata": {},
     "output_type": "execute_result"
    }
   ],
   "source": [
    "len(recipes_notnull)"
   ]
  },
  {
   "cell_type": "code",
   "execution_count": 11,
   "metadata": {},
   "outputs": [],
   "source": [
    "#recipes_notnull[0]"
   ]
  },
  {
   "cell_type": "code",
   "execution_count": 12,
   "metadata": {},
   "outputs": [],
   "source": [
    "header = content[0:content.find('<item>')]\n",
    "footer = '''\n",
    "</channel>\n",
    "</rss>\n",
    "'''"
   ]
  },
  {
   "cell_type": "code",
   "execution_count": 14,
   "metadata": {},
   "outputs": [],
   "source": [
    "for idn, r in enumerate(recipes_notnull):\n",
    "    with open(f'./data/recipe_{idn}.xml', \"w\") as f:\n",
    "        f.write(header + r + footer)"
   ]
  },
  {
   "cell_type": "markdown",
   "metadata": {},
   "source": [
    "#### Alternative ways to navigate the contents"
   ]
  },
  {
   "cell_type": "code",
   "execution_count": null,
   "metadata": {},
   "outputs": [],
   "source": [
    "soup = bs(content, \"lxml\")\n",
    "#result = soup.find_all('content:encoded')\n",
    "result = soup.find('item')\n",
    "print(len(list(result)))"
   ]
  },
  {
   "cell_type": "code",
   "execution_count": null,
   "metadata": {},
   "outputs": [],
   "source": [
    "doc = xml.dom.minidom.parse(xmlfile)\n",
    "tree = ET.parse(xmlfile)"
   ]
  },
  {
   "cell_type": "code",
   "execution_count": null,
   "metadata": {},
   "outputs": [],
   "source": [
    "recipes = doc.getElementsByTagName(\"item\")\n",
    "len(recipes)"
   ]
  },
  {
   "cell_type": "code",
   "execution_count": null,
   "metadata": {},
   "outputs": [],
   "source": [
    "root = tree.getroot()\n",
    "print(root)"
   ]
  },
  {
   "cell_type": "code",
   "execution_count": null,
   "metadata": {},
   "outputs": [],
   "source": [
    "for child in root:\n",
    "    print(child.tag, child.attrib)"
   ]
  },
  {
   "cell_type": "code",
   "execution_count": null,
   "metadata": {},
   "outputs": [],
   "source": [
    "set([elem.tag for elem in root.iter()])"
   ]
  },
  {
   "cell_type": "raw",
   "metadata": {},
   "source": [
    "for elem in root.iter():\n",
    "    for attrName, attrValue in elem.items():\n",
    "        print(attrName + ' ==> ' + attrValue)\n",
    "        #print(elem.tag)\n",
    "        #print(elem.text)\n",
    "        #print(elem.attrib)\n",
    "        #print(elem.items())\n",
    "        #print('\\n')\n",
    "        break"
   ]
  },
  {
   "cell_type": "code",
   "execution_count": null,
   "metadata": {},
   "outputs": [],
   "source": [
    "for event, elem in ET.iterparse(xmlfile):\n",
    "    if elem.tag == \"item\":\n",
    "        print(repr(elem.findtext(\"link\")))\n",
    "        elem.clear() # won't need this again\n",
    "        break"
   ]
  },
  {
   "cell_type": "code",
   "execution_count": null,
   "metadata": {},
   "outputs": [],
   "source": [
    "for event, elem in ET.iterparse(xmlfile):\n",
    "    if elem.tag == \"title\":\n",
    "        print repr(elem.text)\n",
    "        break # we're done"
   ]
  },
  {
   "cell_type": "code",
   "execution_count": null,
   "metadata": {},
   "outputs": [],
   "source": []
  }
 ],
 "metadata": {
  "kernelspec": {
   "display_name": "Python 3",
   "language": "python",
   "name": "python3"
  },
  "language_info": {
   "codemirror_mode": {
    "name": "ipython",
    "version": 3
   },
   "file_extension": ".py",
   "mimetype": "text/x-python",
   "name": "python",
   "nbconvert_exporter": "python",
   "pygments_lexer": "ipython3",
   "version": "3.6.8"
  }
 },
 "nbformat": 4,
 "nbformat_minor": 4
}
