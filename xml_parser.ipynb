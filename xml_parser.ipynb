{
 "cells": [
  {
   "cell_type": "code",
   "execution_count": 1,
   "metadata": {},
   "outputs": [],
   "source": [
    "import re\n",
    "from datetime import datetime\n",
    "from dateutil.parser import parse\n",
    "\n",
    "import xml.dom.minidom\n",
    "from xml.etree import ElementTree as ET\n",
    "from bs4 import BeautifulSoup as bs"
   ]
  },
  {
   "cell_type": "markdown",
   "metadata": {},
   "source": [
    "#### Reading and formatting the files"
   ]
  },
  {
   "cell_type": "code",
   "execution_count": 2,
   "metadata": {},
   "outputs": [],
   "source": [
    "original_file = \"./data/rezeptdatenbank.WordPress.2019-07-29_Rezepte.xml\"\n",
    "cleaned_file = \"./data/rezeptdatenbank.WordPress.2019-07-29_Rezeptev2.xml\""
   ]
  },
  {
   "cell_type": "code",
   "execution_count": 3,
   "metadata": {},
   "outputs": [],
   "source": [
    "with open(original_file, \"r\") as f:\n",
    "    content = f.read()"
   ]
  },
  {
   "cell_type": "code",
   "execution_count": 4,
   "metadata": {},
   "outputs": [],
   "source": [
    "content = content.replace('\\t','')\n",
    "content = content.replace('<content:encoded>\\n','<content:encoded>')\n",
    "content = content.replace('<excerpt:encoded>\\n','<excerpt:encoded>')\n",
    "content = content.replace('<title>\\n','<title>')\n",
    "content = content.replace('</item>','</item>\\n')\n",
    "content = content.replace('<wp:author>','<wp:author>\\n')\n",
    "content = content.replace('</wp:author>','</wp:author>\\n')\n",
    "content = content.replace('</wp:author_id>','</wp:author_id>\\n')\n",
    "content = content.replace('</wp:author_login>','</wp:author_login>\\n')\n",
    "content = content.replace('</wp:author_email>','</wp:author_email>\\n')\n",
    "content = content.replace('</wp:author_display_name>','</wp:author_display_name>\\n')\n",
    "content = content.replace('</wp:author_first_name>','</wp:author_first_name>\\n')\n",
    "content = content.replace('</wp:author_last_name>','</wp:author_last_name>\\n')\n",
    "content = content.replace('&nbsp;\\n\\n','')\n",
    "content = re.sub(r'(<!\\[CDATA\\[)(.*)(\\]\\]>)','\\\\2', content)"
   ]
  },
  {
   "cell_type": "markdown",
   "metadata": {},
   "source": [
    "#### Saving a formatted version of the file with all recipes"
   ]
  },
  {
   "cell_type": "code",
   "execution_count": 5,
   "metadata": {},
   "outputs": [],
   "source": [
    "with open(cleaned_file, \"w\") as f:\n",
    "    f.write(content)"
   ]
  },
  {
   "cell_type": "markdown",
   "metadata": {},
   "source": [
    "#### Finding each individual recipe and saving on a list"
   ]
  },
  {
   "cell_type": "code",
   "execution_count": 6,
   "metadata": {},
   "outputs": [],
   "source": [
    "def find_recipe(text):\n",
    "    pos1 = text.find('<item>')\n",
    "    pos2 = text.find('</item>')+7\n",
    "    return pos1, pos2"
   ]
  },
  {
   "cell_type": "code",
   "execution_count": 7,
   "metadata": {},
   "outputs": [],
   "source": [
    "pos1 = 0\n",
    "text = content\n",
    "recipes = []\n",
    "while pos1 != -1:\n",
    "    pos1, pos2 = find_recipe(text)\n",
    "    recipes.append(text[pos1:pos2])\n",
    "    text =  text[pos2+1:]"
   ]
  },
  {
   "cell_type": "code",
   "execution_count": 8,
   "metadata": {},
   "outputs": [
    {
     "data": {
      "text/plain": [
       "7037"
      ]
     },
     "execution_count": 8,
     "metadata": {},
     "output_type": "execute_result"
    }
   ],
   "source": [
    "len(recipes)"
   ]
  },
  {
   "cell_type": "markdown",
   "metadata": {},
   "source": [
    "#### Discarding recipes without content"
   ]
  },
  {
   "cell_type": "code",
   "execution_count": 9,
   "metadata": {},
   "outputs": [],
   "source": [
    "recipes_notnull = [r for r in recipes if '<content:encoded></content:encoded>' not in r]"
   ]
  },
  {
   "cell_type": "code",
   "execution_count": 10,
   "metadata": {},
   "outputs": [
    {
     "data": {
      "text/plain": [
       "6893"
      ]
     },
     "execution_count": 10,
     "metadata": {},
     "output_type": "execute_result"
    }
   ],
   "source": [
    "len(recipes_notnull)"
   ]
  },
  {
   "cell_type": "markdown",
   "metadata": {},
   "source": [
    "#### Converting files to TEI-XML format"
   ]
  },
  {
   "cell_type": "code",
   "execution_count": 11,
   "metadata": {},
   "outputs": [],
   "source": [
    "template = '''<?xml version=\"1.0\" encoding=\"UTF-8\" ?>\n",
    "<TEI xmlns=\"http://www.tei-c.org/ns/1.0\">\n",
    "    <teiHeader>\n",
    "        <fileDesc>\n",
    "            <titleStmt>\n",
    "                <title>{0}</title>\n",
    "            </titleStmt>\n",
    "            <publicationStmt>\n",
    "                <publisher>\n",
    "                    <orgName>Des Zentrums für Gastrosophie</orgName>\n",
    "                    <ptr target=\"http://gastrosophie.sbg.ac.at/\"/>\n",
    "                </publisher>\n",
    "                <date when=\"{1}\"/>\n",
    "            </publicationStmt>\n",
    "            <sourceDesc>\n",
    "                <biblStruct>\n",
    "                    <monogr>\n",
    "                        <title>{0}</title>\n",
    "                        <title type=\"alt\">{2}</title>\n",
    "                        <note>{3}</note>\n",
    "                        <author>\n",
    "                            <persName xml:id=\"person1\">\n",
    "                                <forename>Marlene</forename>\n",
    "                                <surname>Ernst</surname>\n",
    "                                <email>marlene.ernst@sbg.ac.at</email>\n",
    "                            </persName>\n",
    "                        </author>\n",
    "                        <author>\n",
    "                            <persName xml:id=\"person32\">\n",
    "                                <forename>Christine</forename>\n",
    "                                <surname>Überei</surname>\n",
    "                                <email>christine.ueberei@stud.sbg.ac.at</email>\n",
    "                            </persName>\n",
    "                        </author>\n",
    "                        <author>\n",
    "                            <persName xml:id=\"person33\">\n",
    "                                <forename>Juliane</forename>\n",
    "                                <surname>Wiemerslage</surname>\n",
    "                                <email>Jwiemerslage@web.de</email>\n",
    "                            </persName>\n",
    "                        </author>\n",
    "                        <author>\n",
    "                            <persName xml:id=\"person30\">\n",
    "                                <forename>Irene</forename>\n",
    "                                <surname>Tripp</surname>\n",
    "                                <email>irenetripp@hotmail.com</email>\n",
    "                            </persName>\n",
    "                        </author>\n",
    "                        <author>\n",
    "                            <persName xml:id=\"person19\">\n",
    "                                <forename>Lukas</forename>\n",
    "                                <surname>Fallwickl</surname>\n",
    "                                <email>Lukas_Andreas.Fallwickl@stud.sbg.ac.at</email>\n",
    "                            </persName>\n",
    "                        </author>\n",
    "                        <author>\n",
    "                            <persName xml:id=\"person20\">\n",
    "                                <forename>Magdalena</forename>\n",
    "                                <surname>Bogenhuber</surname>\n",
    "                                <email>magdalena.bogenhuber@stud.sbg.ac.at</email>\n",
    "                            </persName>\n",
    "                        </author>\n",
    "                        <author>\n",
    "                            <persName xml:id=\"person29\">\n",
    "                                <forename>Andrea</forename>\n",
    "                                <surname>Sobieszek</surname>\n",
    "                                <email>A.Sobieszek@utanet.at</email>\n",
    "                            </persName>\n",
    "                        </author>\n",
    "                        <author>\n",
    "                            <persName xml:id=\"person18\">\n",
    "                                <forename>Mae</forename>\n",
    "                                <surname>Lene</surname>\n",
    "                                <email>marlene.ernst@stud.sbg.ac.at</email>\n",
    "                            </persName>\n",
    "                        </author>\n",
    "                        <author>\n",
    "                            <persName xml:id=\"person28\">\n",
    "                                <forename>Sabine</forename>\n",
    "                                <surname>Schwaiger</surname>\n",
    "                                <email>sabine.schwaiger@a1.net</email>\n",
    "                            </persName>\n",
    "                        </author>\n",
    "                        <author>\n",
    "                            <persName xml:id=\"person36\">\n",
    "                                <forename>Lotte</forename>\n",
    "                                <surname>Caglar</surname>\n",
    "                                <email>lotte.caglar@gmx.at</email>\n",
    "                            </persName>\n",
    "                        </author>\n",
    "                        <author>\n",
    "                            <persName xml:id=\"person38\">\n",
    "                                <forename>Wolfram</forename>\n",
    "                                <surname>Kracker</surname>\n",
    "                                <email>wolfram.kracker@aon.at</email>\n",
    "                            </persName>\n",
    "                        </author>\n",
    "                        <author>\n",
    "                            <persName xml:id=\"person39\">\n",
    "                                <forename>Waltraud</forename>\n",
    "                                <surname>Ernst</surname>\n",
    "                                <email>wernst@gmx.at</email>\n",
    "                            </persName>\n",
    "                        </author>\n",
    "                        <author>\n",
    "                            <persName xml:id=\"person35\">\n",
    "                                <forename>Marlies</forename>\n",
    "                                <surname>Berger</surname>\n",
    "                                <email>marlies.berger@sbg.ac.at</email>\n",
    "                            </persName>\n",
    "                        </author>\n",
    "                        <author>\n",
    "                            <persName xml:id=\"person26\">\n",
    "                                <forename>Helga</forename>\n",
    "                                <surname>Kraihamer</surname>\n",
    "                                <email>h.kraihamer@gmail.com</email>\n",
    "                            </persName>\n",
    "                        </author>\n",
    "                        <author>\n",
    "                            <persName xml:id=\"person37\">\n",
    "                                <forename>Margit</forename>\n",
    "                                <surname>Gull</surname>\n",
    "                                <email>m.gull@gmx.at</email>\n",
    "                            </persName>\n",
    "                        </author>\n",
    "                        <author>\n",
    "                            <persName xml:id=\"person41\">\n",
    "                                <forename>Maximilian</forename>\n",
    "                                <surname>Schmidauer</surname>\n",
    "                                <email>maximilian.schmidauer@stud.sbg.ac.at</email>\n",
    "                            </persName>\n",
    "                        </author>\n",
    "                        <textLang mainLang=\"deu\"/>\n",
    "                        <imprint>\n",
    "                            <biblScope unit=\"volume\">{4}</biblScope>\n",
    "                            <biblScope unit=\"chapter\">{5}</biblScope>\n",
    "                            <biblScope unit=\"entry\">{6}</biblScope>\n",
    "                        </imprint>\n",
    "                    </monogr>\n",
    "                </biblStruct>\n",
    "                <msDesc>\n",
    "                    <msIdentifier>\n",
    "                        <repository>Rezeptdatenbank</repository>\n",
    "                        <idno>{7}</idno>\n",
    "                    </msIdentifier>\n",
    "                </msDesc>\n",
    "            </sourceDesc>\n",
    "        </fileDesc>\n",
    "    </teiHeader>\n",
    "    <text>\n",
    "        <body>\n",
    "            <div type=\"ingredients\">\n",
    "                <listObject>\n",
    "\\t\\t\\t{8}\n",
    "                 </listObject>\n",
    "            </div>\n",
    "             <div type=\"utensils\">\n",
    "                <listObject>\n",
    "\\t\\t\\t{9}\n",
    "                </listObject>\n",
    "            </div>\n",
    "            <div type=\"dietetic\">\n",
    "                <listObject>\n",
    "\\t\\t\\t{10}\n",
    "                </listObject>\n",
    "            </div>\n",
    "        <div type=\"recipe\">\n",
    "        <p>{11}</p>\n",
    "            </div>\n",
    "        </body>\n",
    "    </text>\n",
    "</TEI>\n",
    "'''"
   ]
  },
  {
   "cell_type": "code",
   "execution_count": 12,
   "metadata": {},
   "outputs": [],
   "source": [
    "def extract_features(raw):\n",
    "    soup = bs(raw, \"lxml\")\n",
    "    #0 title\n",
    "    title=''\n",
    "    title = soup.find('title').text\n",
    "    #print(title)\n",
    "\n",
    "    #1 tei_formatted_date\n",
    "    tei_formatted_date = ''\n",
    "    declared_date = parse(soup.find('pubdate').text)\n",
    "    tei_formatted_date = f'{declared_date.year}-{declared_date.month:02d}-{declared_date.day}' \n",
    "\n",
    "    #2 translation\n",
    "    translation = ''\n",
    "    trans_pos1 = raw.find('<wp:meta_key>translation</wp:meta_key>\\n<wp:meta_value>')\n",
    "    if trans_pos1 != -1:\n",
    "        trans_pos2 = raw.find('</wp:meta_value>', trans_pos1)\n",
    "        translation = raw[trans_pos1+54:trans_pos2]\n",
    "\n",
    "    #3 anmerkungen\n",
    "    anmerkungen = ''\n",
    "    note_pos1 = raw.find('<wp:meta_key>anmerkungen</wp:meta_key>\\n<wp:meta_value>')\n",
    "    if note_pos1 != -1:\n",
    "        note_pos2 = raw.find('</wp:meta_value>', note_pos1)\n",
    "        anmerkungen = raw[note_pos1+54:note_pos2]\n",
    "       \n",
    "\n",
    "    #4 volume, #5 chapter and #6 entry\n",
    "    number = ''\n",
    "    number_pos1 = raw.find('<wp:meta_key>number</wp:meta_key>\\n<wp:meta_value>')\n",
    "    if number_pos1 != -1:\n",
    "        number_pos2 = raw.find('</wp:meta_value>', number_pos1)\n",
    "        number = raw[number_pos1+49:number_pos2]\n",
    "\n",
    "    #7 idno\n",
    "    idno = 0\n",
    "    idno = soup.find('guid').text[soup.find('guid').text.find('p=')+2:]\n",
    "\n",
    "    #8 Zutaten, #9 MaterielleKultur and #10 diaetetik\n",
    "    zutaten = ''\n",
    "    materielle = ''\n",
    "    diaetetik = ''\n",
    "    objects = soup.findAll('category')\n",
    "    for obj in objects:\n",
    "        if obj['domain'] == 'Zutaten':\n",
    "            zutaten = zutaten + '<object type=\"Zutaten\" xml:id=\"{}\">{}</object>\\n\\t\\t\\t'.format(obj['nicename'], obj.text)\n",
    "        elif obj['domain'] == 'MaterielleKultur':\n",
    "            materielle = materielle + '<object type=\"MaterielleKultur\" xml:id=\"{}\">{}</object>\\n\\t\\t\\t'.format(obj['nicename'], obj.text)\n",
    "        elif obj['domain'] == 'Diaetetik':\n",
    "            diaetetik = diaetetik + '<object type=\"Diaetetik\" xml:id=\"{}\">{}</object>\\n\\t\\t\\t'.format(obj['nicename'], obj.text)\n",
    "    if zutaten:\n",
    "        zutaten = zutaten[:-4]\n",
    "    if materielle:\n",
    "        materielle = materielle[:-4]\n",
    "    if diaetetik:\n",
    "        diaetetik = diaetetik[:-4]\n",
    "            \n",
    "    #11 recipe_text\n",
    "    recipe_text = ''\n",
    "    recipe_text = soup.find('content:encoded').text\n",
    "    if recipe_text:\n",
    "        recipe_text = recipe_text.replace('/','<lb/>') \n",
    "\n",
    "    \n",
    "    return (title,\n",
    "            tei_formatted_date,\n",
    "            translation,\n",
    "            anmerkungen,\n",
    "            number, #volume,  #still need to parse bibliographic information\n",
    "            number, #chapter, #still need to parse bibliographic information \n",
    "            number, #entry,   #still need to parse bibliographic information\n",
    "            idno,\n",
    "            zutaten,\n",
    "            materielle,\n",
    "            diaetetik,\n",
    "            recipe_text\n",
    "            )"
   ]
  },
  {
   "cell_type": "markdown",
   "metadata": {},
   "source": [
    "#### Creating separate files using template"
   ]
  },
  {
   "cell_type": "code",
   "execution_count": 13,
   "metadata": {},
   "outputs": [],
   "source": [
    "for idn, r in enumerate(recipes_notnull[0:10]):\n",
    "    with open(f'./outputs/recipe_{idn}.xml', \"w\") as f:\n",
    "        features = extract_features(r)\n",
    "        recipe = template.format(*features)\n",
    "        f.write(recipe)"
   ]
  },
  {
   "cell_type": "code",
   "execution_count": null,
   "metadata": {},
   "outputs": [],
   "source": []
  }
 ],
 "metadata": {
  "kernelspec": {
   "display_name": "Python 3",
   "language": "python",
   "name": "python3"
  },
  "language_info": {
   "codemirror_mode": {
    "name": "ipython",
    "version": 3
   },
   "file_extension": ".py",
   "mimetype": "text/x-python",
   "name": "python",
   "nbconvert_exporter": "python",
   "pygments_lexer": "ipython3",
   "version": "3.6.8"
  }
 },
 "nbformat": 4,
 "nbformat_minor": 4
}
